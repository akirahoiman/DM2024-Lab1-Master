{
 "cells": [
  {
   "cell_type": "markdown",
   "metadata": {},
   "source": [
    "SECOND TASK> follow the same process from the DM2024-Lab1-Master on the new dataset. You don't need to explain all details as we did (some minimal comments explaining your code are useful though). This part is worth 30% of your grade.\n",
    "Download the the new dataset. The dataset contains a sentiment and comment columns, with the sentiment labels being: 'nostalgia' and 'not nostalgia'. Read the specificiations of the dataset for background details.\n",
    "You are allowed to use and modify the helper functions in the folder of the first lab session (notice they may need modification) or create your own.\n"
   ]
  },
  {
   "cell_type": "markdown",
   "metadata": {},
   "source": [
    "1. Check the basic information of the dataset"
   ]
  },
  {
   "cell_type": "code",
   "execution_count": 9,
   "metadata": {},
   "outputs": [
    {
     "name": "stdout",
     "output_type": "stream",
     "text": [
      "       sentiment                                            comment\n",
      "0  not nostalgia  He was a singer with a golden voice that I lov...\n",
      "1      nostalgia  The mist beautiful voice ever I listened to hi...\n",
      "2      nostalgia  I have most of Mr. Reeves songs.  Always love ...\n",
      "3  not nostalgia  30 day leave from 1st tour in Viet Nam to conv...\n",
      "4      nostalgia  listening to his songs reminds me of my mum wh...\n",
      "列名： Index(['sentiment', 'comment'], dtype='object')\n",
      "資料類型：\n",
      " sentiment    object\n",
      "comment      object\n",
      "dtype: object\n"
     ]
    }
   ],
   "source": [
    "import pandas as pd\n",
    "\n",
    "file_path = r'D:\\Visual Studio Code\\111\\td\\Nostalgic_Sentiment_Analysis_of_YouTube_Comments_Data.csv'\n",
    "df = pd.read_csv(file_path)\n",
    "\n",
    "# View the first few rows of the dataset\n",
    "print(df.head())\n",
    "\n",
    "# View the column names of the dataset\n",
    "print(\"Column names:\", df.columns)\n",
    "\n",
    "# View the data types of the dataset\n",
    "print(\"Data types:\\n\", df.dtypes)\n"
   ]
  },
  {
   "cell_type": "markdown",
   "metadata": {},
   "source": [
    "Answer:\n",
    "\n",
    "1.\t評論數據（comment）：資料集包含一系列評論，這些評論是人們對於某個主題的看法或感受。每一條評論都與一個情感標籤相關聯，表明這條評論是否表達了懷舊情緒。\n",
    "例如：\n",
    "第0條評論是“not nostalgia”，內容是：“He was a singer with a golden voice that I love to hear all the time...”，意味著這條評論沒有表達懷舊情緒。\n",
    "第1條評論是“nostalgia”，內容是：“The mist beautiful voice ever I listened to him when I was a kid...”，表明這條評論表達了懷舊情緒。\n",
    "2.\t情感標籤（sentiment）：每條評論都伴隨一個情感標籤，這個標籤是“nostalgia”（懷舊）或“not nostalgia”（不懷舊）。這個標籤用於分類評論，指示評論者在撰寫評論時是否體驗到了懷舊情緒。\n",
    "3.\t列名和資料類型：資料集有兩列，分別是情感（sentiment）和評論（comment）。\n",
    "資料類型為object，通常表示這些列包含的是文本資料（字串類型），而非數值資料。\n"
   ]
  },
  {
   "cell_type": "markdown",
   "metadata": {},
   "source": [
    "2. Check the detailed description of the dataset"
   ]
  },
  {
   "cell_type": "code",
   "execution_count": 7,
   "metadata": {},
   "outputs": [
    {
     "name": "stdout",
     "output_type": "stream",
     "text": [
      "<class 'pandas.core.frame.DataFrame'>\n",
      "RangeIndex: 1500 entries, 0 to 1499\n",
      "Data columns (total 2 columns):\n",
      " #   Column     Non-Null Count  Dtype \n",
      "---  ------     --------------  ----- \n",
      " 0   sentiment  1500 non-null   object\n",
      " 1   comment    1500 non-null   object\n",
      "dtypes: object(2)\n",
      "memory usage: 23.6+ KB\n",
      "資料集基本資訊：\n",
      " None\n",
      "\n",
      "每列的唯一值數量：\n",
      " sentiment       2\n",
      "comment      1499\n",
      "dtype: int64\n",
      "\n",
      "資料集的形狀： (1500, 2)\n"
     ]
    }
   ],
   "source": [
    "# Check the basic info of the dataset, including the number of non-null values for each column\n",
    "print(\"Dataset basic info:\\n\", df.info())\n",
    "# Check the number of unique values for each column\n",
    "print(\"\\nNumber of unique values per column:\\n\", df.nunique())\n",
    "# Check the shape of the dataset, i.e., the number of rows and columns\n",
    "print(\"\\nShape of the dataset:\", df.shape)"
   ]
  },
  {
   "cell_type": "markdown",
   "metadata": {},
   "source": [
    "Answer:\n",
    "\n",
    "下面是對輸出資訊的逐項解釋：\n",
    "1.\tDataFrame 類型和大小：RangeIndex: 1500 entries, 0 to 1499 說明這個 `DataFrame` 包含1500行資料，索引從0到1499。\n",
    "2.\t數據列：DataFrame 總共有2列。0 sentiment 1500 non-null object` 表示 sentiment 列有1500個非空值，資料類型為object（通常是字串）。1 comment 1500 non-null object 表示 comment 列也有1500個非空值，資料類型同樣為 object。\n",
    "3.\t記憶體使用：這個 DataFrame 在記憶體中佔用的大小超過23.6千位元組。\n",
    "4.\t每列的唯一值數量： sentiment 列有2個唯一值，這兩個值是“懷舊”和“不懷舊”。comment 列有1499個唯一值，這意味著有1499條不同的評論，或者有極少數評論內容重複。\n",
    "5.\t資料集的形狀：資料集的形狀:(1500,2) 再次確認了這個 DataFrame 有1500行和2列。\n",
    "綜上所述，這個輸出提供了一個關於資料集的全面快照，包括它的結構、資料類型、記憶體使用情況、每列的唯一值數量以及資料集的維度。這些資訊對於理解資料集的特性和進行初步的資料探索非常有用。\n"
   ]
  },
  {
   "cell_type": "markdown",
   "metadata": {},
   "source": [
    "3. Check the missing values in the dataset"
   ]
  },
  {
   "cell_type": "code",
   "execution_count": 10,
   "metadata": {},
   "outputs": [
    {
     "name": "stdout",
     "output_type": "stream",
     "text": [
      "\n",
      "每列的缺失值數量：\n",
      " sentiment    0\n",
      "comment      0\n",
      "dtype: int64\n",
      "\n",
      "總缺失值數量： 0\n"
     ]
    }
   ],
   "source": [
    "# Check the number of missing values for each column\n",
    "print(\"\\nNumber of missing values per column:\\n\", df.isnull().sum())\n",
    "# Check the total number of missing values in the dataset\n",
    "print(\"\\nTotal number of missing values:\", df.isnull().sum().sum())"
   ]
  },
  {
   "cell_type": "markdown",
   "metadata": {},
   "source": [
    "Answer:\n",
    "\n",
    "這段輸出資訊提供了關於資料集中缺失值的統計資料。具體來說：\n",
    "1.\t每列的缺失值數量：在 sentiment 這一列中，沒有缺失值。這意味著所有1500條資料都有對應的情感標籤。\n",
    "2.\t資料類型：表明這個由缺失值統計構成的 Series 的資料類型是 int64，即每個元素都是一個整數。\n",
    "3.\t總缺失值數量：總缺失值數量:0 表示在整個資料集中，沒有任何缺失值。這是一個非常理想的狀態，意味著所有的資料行都是完整的，沒有需要填充或處理的缺失資料。\n",
    "綜上所述，這個輸出告訴我們，這個資料集在 `sentiment` 列中沒有缺失值，而且整個資料集也沒有缺失值，這使得資料分析和處理變得更加直接和簡單，不需要進行額外的資料清洗步驟來處理缺失值。不過，關於 `comment` 列的資料類型，可能需要進一步確認，以確保資料類型的準確性。\n"
   ]
  },
  {
   "cell_type": "markdown",
   "metadata": {},
   "source": []
  }
 ],
 "metadata": {
  "kernelspec": {
   "display_name": "Python 3",
   "language": "python",
   "name": "python3"
  },
  "language_info": {
   "codemirror_mode": {
    "name": "ipython",
    "version": 3
   },
   "file_extension": ".py",
   "mimetype": "text/x-python",
   "name": "python",
   "nbconvert_exporter": "python",
   "pygments_lexer": "ipython3",
   "version": "3.8.0"
  }
 },
 "nbformat": 4,
 "nbformat_minor": 2
}
